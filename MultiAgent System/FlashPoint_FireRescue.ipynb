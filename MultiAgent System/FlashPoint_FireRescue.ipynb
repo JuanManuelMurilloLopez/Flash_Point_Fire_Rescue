{
 "cells": [
  {
   "cell_type": "code",
   "execution_count": 3,
   "id": "8272321c",
   "metadata": {},
   "outputs": [
    {
     "ename": "TypeError",
     "evalue": "unhashable type: 'list'",
     "output_type": "error",
     "traceback": [
      "\u001b[31m---------------------------------------------------------------------------\u001b[39m",
      "\u001b[31mTypeError\u001b[39m                                 Traceback (most recent call last)",
      "\u001b[36mCell\u001b[39m\u001b[36m \u001b[39m\u001b[32mIn[3]\u001b[39m\u001b[32m, line 22\u001b[39m\n\u001b[32m     19\u001b[39m model = FireRescueModel()\n\u001b[32m     21\u001b[39m \u001b[38;5;28;01mwhile\u001b[39;00m \u001b[38;5;129;01mnot\u001b[39;00m(model.defeat()) \u001b[38;5;129;01mor\u001b[39;00m \u001b[38;5;129;01mnot\u001b[39;00m(model.victory()):\n\u001b[32m---> \u001b[39m\u001b[32m22\u001b[39m     \u001b[43mmodel\u001b[49m\u001b[43m.\u001b[49m\u001b[43mstep\u001b[49m\u001b[43m(\u001b[49m\u001b[43m)\u001b[49m\n\u001b[32m     24\u001b[39m allAgentsInfo = model.datacollector.get_agent_vars_dataframe()\n\u001b[32m     25\u001b[39m allAgentsInfo.info()\n",
      "\u001b[36mFile \u001b[39m\u001b[32mc:\\Users\\Santiago\\Documents\\Unity\\Flash_Point_Fire_Rescue\\MultiAgent System\\venv\\Lib\\site-packages\\mesa\\model.py:113\u001b[39m, in \u001b[36mModel._wrapped_step\u001b[39m\u001b[34m(self, *args, **kwargs)\u001b[39m\n\u001b[32m    111\u001b[39m \u001b[38;5;28mself\u001b[39m.steps += \u001b[32m1\u001b[39m\n\u001b[32m    112\u001b[39m \u001b[38;5;66;03m# Call the original user-defined step method\u001b[39;00m\n\u001b[32m--> \u001b[39m\u001b[32m113\u001b[39m \u001b[38;5;28;43mself\u001b[39;49m\u001b[43m.\u001b[49m\u001b[43m_user_step\u001b[49m\u001b[43m(\u001b[49m\u001b[43m*\u001b[49m\u001b[43margs\u001b[49m\u001b[43m,\u001b[49m\u001b[43m \u001b[49m\u001b[43m*\u001b[49m\u001b[43m*\u001b[49m\u001b[43mkwargs\u001b[49m\u001b[43m)\u001b[49m\n",
      "\u001b[36mFile \u001b[39m\u001b[32mc:\\Users\\Santiago\\Documents\\Unity\\Flash_Point_Fire_Rescue\\MultiAgent System\\Models\\FireRescueModel.py:219\u001b[39m, in \u001b[36mFireRescueModel.step\u001b[39m\u001b[34m(self)\u001b[39m\n\u001b[32m    217\u001b[39m     \u001b[38;5;28mself\u001b[39m.advanceFire()\n\u001b[32m    218\u001b[39m     \u001b[38;5;28mself\u001b[39m.replendishPOI()\n\u001b[32m--> \u001b[39m\u001b[32m219\u001b[39m \u001b[38;5;28;43mself\u001b[39;49m\u001b[43m.\u001b[49m\u001b[43mschedule\u001b[49m\u001b[43m.\u001b[49m\u001b[43mstep\u001b[49m\u001b[43m(\u001b[49m\u001b[43m)\u001b[49m\n\u001b[32m    220\u001b[39m \u001b[38;5;28mself\u001b[39m.advanceFire()\n",
      "\u001b[36mFile \u001b[39m\u001b[32mc:\\Users\\Santiago\\Documents\\Unity\\Flash_Point_Fire_Rescue\\MultiAgent System\\venv\\Lib\\site-packages\\mesa\\time.py:174\u001b[39m, in \u001b[36mRandomActivation.step\u001b[39m\u001b[34m(self)\u001b[39m\n\u001b[32m    172\u001b[39m \u001b[38;5;28;01mdef\u001b[39;00m\u001b[38;5;250m \u001b[39m\u001b[34mstep\u001b[39m(\u001b[38;5;28mself\u001b[39m) -> \u001b[38;5;28;01mNone\u001b[39;00m:\n\u001b[32m    173\u001b[39m \u001b[38;5;250m    \u001b[39m\u001b[33;03m\"\"\"Executes the step of all agents, one at a time, in random order.\"\"\"\u001b[39;00m\n\u001b[32m--> \u001b[39m\u001b[32m174\u001b[39m     \u001b[38;5;28;43mself\u001b[39;49m\u001b[43m.\u001b[49m\u001b[43mdo_each\u001b[49m\u001b[43m(\u001b[49m\u001b[33;43m\"\u001b[39;49m\u001b[33;43mstep\u001b[39;49m\u001b[33;43m\"\u001b[39;49m\u001b[43m,\u001b[49m\u001b[43m \u001b[49m\u001b[43mshuffle\u001b[49m\u001b[43m=\u001b[49m\u001b[38;5;28;43;01mTrue\u001b[39;49;00m\u001b[43m)\u001b[49m\n\u001b[32m    175\u001b[39m     \u001b[38;5;28mself\u001b[39m.steps += \u001b[32m1\u001b[39m\n\u001b[32m    176\u001b[39m     \u001b[38;5;28mself\u001b[39m.time += \u001b[32m1\u001b[39m\n",
      "\u001b[36mFile \u001b[39m\u001b[32mc:\\Users\\Santiago\\Documents\\Unity\\Flash_Point_Fire_Rescue\\MultiAgent System\\venv\\Lib\\site-packages\\mesa\\time.py:156\u001b[39m, in \u001b[36mBaseScheduler.do_each\u001b[39m\u001b[34m(self, method, shuffle)\u001b[39m\n\u001b[32m    154\u001b[39m \u001b[38;5;28;01mif\u001b[39;00m shuffle:\n\u001b[32m    155\u001b[39m     \u001b[38;5;28mself\u001b[39m._agents.shuffle(inplace=\u001b[38;5;28;01mTrue\u001b[39;00m)\n\u001b[32m--> \u001b[39m\u001b[32m156\u001b[39m \u001b[38;5;28;43mself\u001b[39;49m\u001b[43m.\u001b[49m\u001b[43m_agents\u001b[49m\u001b[43m.\u001b[49m\u001b[43mdo\u001b[49m\u001b[43m(\u001b[49m\u001b[43mmethod\u001b[49m\u001b[43m)\u001b[49m\n",
      "\u001b[36mFile \u001b[39m\u001b[32mc:\\Users\\Santiago\\Documents\\Unity\\Flash_Point_Fire_Rescue\\MultiAgent System\\venv\\Lib\\site-packages\\mesa\\agent.py:291\u001b[39m, in \u001b[36mAgentSet.do\u001b[39m\u001b[34m(self, method, *args, **kwargs)\u001b[39m\n\u001b[32m    289\u001b[39m     \u001b[38;5;28;01mfor\u001b[39;00m agentref \u001b[38;5;129;01min\u001b[39;00m \u001b[38;5;28mself\u001b[39m._agents.keyrefs():\n\u001b[32m    290\u001b[39m         \u001b[38;5;28;01mif\u001b[39;00m (agent := agentref()) \u001b[38;5;129;01mis\u001b[39;00m \u001b[38;5;129;01mnot\u001b[39;00m \u001b[38;5;28;01mNone\u001b[39;00m:\n\u001b[32m--> \u001b[39m\u001b[32m291\u001b[39m             \u001b[38;5;28;43mgetattr\u001b[39;49m\u001b[43m(\u001b[49m\u001b[43magent\u001b[49m\u001b[43m,\u001b[49m\u001b[43m \u001b[49m\u001b[43mmethod\u001b[49m\u001b[43m)\u001b[49m\u001b[43m(\u001b[49m\u001b[43m*\u001b[49m\u001b[43margs\u001b[49m\u001b[43m,\u001b[49m\u001b[43m \u001b[49m\u001b[43m*\u001b[49m\u001b[43m*\u001b[49m\u001b[43mkwargs\u001b[49m\u001b[43m)\u001b[49m\n\u001b[32m    292\u001b[39m \u001b[38;5;28;01melse\u001b[39;00m:\n\u001b[32m    293\u001b[39m     \u001b[38;5;28;01mfor\u001b[39;00m agentref \u001b[38;5;129;01min\u001b[39;00m \u001b[38;5;28mself\u001b[39m._agents.keyrefs():\n",
      "\u001b[36mFile \u001b[39m\u001b[32mc:\\Users\\Santiago\\Documents\\Unity\\Flash_Point_Fire_Rescue\\MultiAgent System\\Models\\Firefighter.py:17\u001b[39m, in \u001b[36mstep\u001b[39m\u001b[34m(self)\u001b[39m\n\u001b[32m      0\u001b[39m <Error retrieving source code with stack_data see ipython/ipython#13598>\n",
      "\u001b[36mFile \u001b[39m\u001b[32mc:\\Users\\Santiago\\Documents\\Unity\\Flash_Point_Fire_Rescue\\MultiAgent System\\Models\\Firefighter.py:25\u001b[39m, in \u001b[36mmove\u001b[39m\u001b[34m(self)\u001b[39m\n\u001b[32m     23\u001b[39m possiblePositions = \u001b[38;5;28mself\u001b[39m.model.grid.get_neighborhood(\u001b[38;5;28mself\u001b[39m.pos, moore = \u001b[38;5;28;01mFalse\u001b[39;00m, include_center = \u001b[38;5;28;01mFalse\u001b[39;00m)\n\u001b[32m     24\u001b[39m options = np.random.permutation(\u001b[38;5;28mlen\u001b[39m(possiblePositions))\n\u001b[32m---> \u001b[39m\u001b[32m25\u001b[39m \u001b[38;5;28;01mif\u001b[39;00m options:\n\u001b[32m     26\u001b[39m     newPos = options[\u001b[32m0\u001b[39m]\n\u001b[32m     27\u001b[39m     \u001b[38;5;28mself\u001b[39m.model.grid.move_agent(\u001b[38;5;28mself\u001b[39m, newPos)\n",
      "\u001b[36mFile \u001b[39m\u001b[32mc:\\Users\\Santiago\\Documents\\Unity\\Flash_Point_Fire_Rescue\\MultiAgent System\\venv\\Lib\\site-packages\\mesa\\space.py:287\u001b[39m, in \u001b[36m_Grid.get_neighborhood\u001b[39m\u001b[34m(self, pos, moore, include_center, radius)\u001b[39m\n\u001b[32m    269\u001b[39m \u001b[38;5;250m\u001b[39m\u001b[33;03m\"\"\"Return a list of cells that are in the neighborhood of a certain point.\u001b[39;00m\n\u001b[32m    270\u001b[39m \n\u001b[32m    271\u001b[39m \u001b[33;03mArgs:\u001b[39;00m\n\u001b[32m   (...)\u001b[39m\u001b[32m    284\u001b[39m \u001b[33;03m    if not including the center).\u001b[39;00m\n\u001b[32m    285\u001b[39m \u001b[33;03m\"\"\"\u001b[39;00m\n\u001b[32m    286\u001b[39m cache_key = (pos, moore, include_center, radius)\n\u001b[32m--> \u001b[39m\u001b[32m287\u001b[39m neighborhood = \u001b[38;5;28;43mself\u001b[39;49m\u001b[43m.\u001b[49m\u001b[43m_neighborhood_cache\u001b[49m\u001b[43m.\u001b[49m\u001b[43mget\u001b[49m\u001b[43m(\u001b[49m\u001b[43mcache_key\u001b[49m\u001b[43m,\u001b[49m\u001b[43m \u001b[49m\u001b[38;5;28;43;01mNone\u001b[39;49;00m\u001b[43m)\u001b[49m\n\u001b[32m    289\u001b[39m \u001b[38;5;28;01mif\u001b[39;00m neighborhood \u001b[38;5;129;01mis\u001b[39;00m \u001b[38;5;129;01mnot\u001b[39;00m \u001b[38;5;28;01mNone\u001b[39;00m:\n\u001b[32m    290\u001b[39m     \u001b[38;5;28;01mreturn\u001b[39;00m neighborhood\n",
      "\u001b[31mTypeError\u001b[39m: unhashable type: 'list'"
     ]
    }
   ],
   "source": [
    "import matplotlib\n",
    "import matplotlib.pyplot as plt\n",
    "import matplotlib.animation as animation\n",
    "plt.rcParams[\"animation.html\"] = \"jshtml\"\n",
    "matplotlib.rcParams['animation.embed_limit'] = 2**128\n",
    "\n",
    "import numpy as np\n",
    "import pandas as pd\n",
    "import seaborn as sns\n",
    "sns.set()\n",
    "\n",
    "import time\n",
    "import datetime\n",
    "\n",
    "from Models.Fire import Fire\n",
    "from Models.Firefighter import Firefighter\n",
    "from Models.FireRescueModel import FireRescueModel\n",
    "\n",
    "model = FireRescueModel()\n",
    "\n",
    "while not(model.defeat()) or not(model.victory()):\n",
    "    model.step()\n",
    "\n",
    "allAgentsInfo = model.datacollector.get_agent_vars_dataframe()\n",
    "allAgentsInfo.info()\n",
    "\n",
    "allGrids = model.datacollector.get_model_vars_dataframe()\n",
    "allGrids.info()\n",
    "\n",
    "fig, axs = plt.subplots(figsize = (4, 4))\n",
    "axs.set_xticks([])\n",
    "axs.set_yticks([])\n",
    "patch = plt.imshow(allGrids.iloc[0, 0], cmap = plt.cm.binary)\n",
    "\n",
    "def animate(i):\n",
    "    patch.set_data(allGrids.iloc[i, 0])\n",
    "\n",
    "anim = animation.FuncAnimation(fig, animate, frames = model.steps)\n",
    "\n",
    "anim"
   ]
  }
 ],
 "metadata": {
  "kernelspec": {
   "display_name": "venv",
   "language": "python",
   "name": "python3"
  },
  "language_info": {
   "codemirror_mode": {
    "name": "ipython",
    "version": 3
   },
   "file_extension": ".py",
   "mimetype": "text/x-python",
   "name": "python",
   "nbconvert_exporter": "python",
   "pygments_lexer": "ipython3",
   "version": "3.12.3"
  }
 },
 "nbformat": 4,
 "nbformat_minor": 5
}
