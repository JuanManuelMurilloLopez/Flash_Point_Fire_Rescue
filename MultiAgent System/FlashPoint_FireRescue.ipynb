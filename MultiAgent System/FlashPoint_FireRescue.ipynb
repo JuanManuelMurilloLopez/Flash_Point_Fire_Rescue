{
 "cells": [
  {
   "cell_type": "code",
   "execution_count": 10,
   "id": "8272321c",
   "metadata": {},
   "outputs": [
    {
     "ename": "IndexError",
     "evalue": "list index out of range",
     "output_type": "error",
     "traceback": [
      "\u001b[31m---------------------------------------------------------------------------\u001b[39m",
      "\u001b[31mIndexError\u001b[39m                                Traceback (most recent call last)",
      "\u001b[36mCell\u001b[39m\u001b[36m \u001b[39m\u001b[32mIn[10]\u001b[39m\u001b[32m, line 19\u001b[39m\n\u001b[32m     16\u001b[39m \u001b[38;5;28;01mfrom\u001b[39;00m\u001b[38;5;250m \u001b[39m\u001b[34;01mModels\u001b[39;00m\u001b[34;01m.\u001b[39;00m\u001b[34;01mFirefighter\u001b[39;00m\u001b[38;5;250m \u001b[39m\u001b[38;5;28;01mimport\u001b[39;00m Firefighter\n\u001b[32m     17\u001b[39m \u001b[38;5;28;01mfrom\u001b[39;00m\u001b[38;5;250m \u001b[39m\u001b[34;01mModels\u001b[39;00m\u001b[34;01m.\u001b[39;00m\u001b[34;01mFireRescueModel\u001b[39;00m\u001b[38;5;250m \u001b[39m\u001b[38;5;28;01mimport\u001b[39;00m FireRescueModel\n\u001b[32m---> \u001b[39m\u001b[32m19\u001b[39m model = \u001b[43mFireRescueModel\u001b[49m\u001b[43m(\u001b[49m\u001b[43m)\u001b[49m\n\u001b[32m     21\u001b[39m \u001b[38;5;28;01mwhile\u001b[39;00m \u001b[38;5;129;01mnot\u001b[39;00m(model.playerLost()) \u001b[38;5;129;01mor\u001b[39;00m \u001b[38;5;129;01mnot\u001b[39;00m(model.playerWon()):\n\u001b[32m     22\u001b[39m     model.step()\n",
      "\u001b[36mFile \u001b[39m\u001b[32m~/Documents/Programming/FireRescue/MultiAgent System/Models/FireRescueModel.py:80\u001b[39m, in \u001b[36mFireRescueModel.__init__\u001b[39m\u001b[34m(self, width, height, noOfAagents, victimsMarkers, board)\u001b[39m\n\u001b[32m     77\u001b[39m \u001b[38;5;28mself\u001b[39m.POIs = []\n\u001b[32m     78\u001b[39m \u001b[38;5;28;01mfor\u001b[39;00m poiData \u001b[38;5;129;01min\u001b[39;00m board[\u001b[33m\"\u001b[39m\u001b[33mPOILocations\u001b[39m\u001b[33m\"\u001b[39m]:\n\u001b[32m     79\u001b[39m     \u001b[38;5;66;03m# Creamos el agente en la posición indicada\u001b[39;00m\n\u001b[32m---> \u001b[39m\u001b[32m80\u001b[39m     poi = Poi(\u001b[38;5;28mself\u001b[39m, (poiData[\u001b[32m0\u001b[39m], poiData[\u001b[32m1\u001b[39m]), \u001b[43mpoiData\u001b[49m\u001b[43m[\u001b[49m\u001b[32;43m3\u001b[39;49m\u001b[43m]\u001b[49m)\n\u001b[32m     81\u001b[39m     \u001b[38;5;28mself\u001b[39m.POIs.append(poi)\n\u001b[32m     83\u001b[39m \u001b[38;5;66;03m# Añadimos el fuego inicial\u001b[39;00m\n",
      "\u001b[31mIndexError\u001b[39m: list index out of range"
     ]
    }
   ],
   "source": [
    "import matplotlib\n",
    "import matplotlib.pyplot as plt\n",
    "import matplotlib.animation as animation\n",
    "plt.rcParams[\"animation.html\"] = \"jshtml\"\n",
    "matplotlib.rcParams['animation.embed_limit'] = 2**128\n",
    "\n",
    "import numpy as np\n",
    "import pandas as pd\n",
    "import seaborn as sns\n",
    "sns.set()\n",
    "\n",
    "import time\n",
    "import datetime\n",
    "\n",
    "from Models.Fire import Fire\n",
    "from Models.Firefighter import Firefighter\n",
    "from Models.FireRescueModel import FireRescueModel\n",
    "\n",
    "model = FireRescueModel()\n",
    "\n",
    "while not(model.playerLost()) or not(model.playerWon()):\n",
    "    model.step()\n",
    "\n",
    "allAgentsInfo = model.datacollector.get_agent_vars_dataframe()\n",
    "allAgentsInfo.info()\n",
    "\n",
    "allGrids = model.datacollector.get_model_vars_dataframe()\n",
    "allGrids.info()\n",
    "\n",
    "fig, axs = plt.subplots(figsize = (4, 4))\n",
    "axs.set_xticks([])\n",
    "axs.set_yticks([])\n",
    "patch = plt.imshow(allGrids.iloc[0, 0], cmap = plt.cm.binary)\n",
    "\n",
    "def animate(i):\n",
    "    patch.set_data(allGrids.iloc[i, 0])\n",
    "\n",
    "anim = animation.FuncAnimation(fig, animate, frames = model.steps)\n",
    "\n",
    "anim"
   ]
  }
 ],
 "metadata": {
  "kernelspec": {
   "display_name": "venv",
   "language": "python",
   "name": "python3"
  },
  "language_info": {
   "codemirror_mode": {
    "name": "ipython",
    "version": 3
   },
   "file_extension": ".py",
   "mimetype": "text/x-python",
   "name": "python",
   "nbconvert_exporter": "python",
   "pygments_lexer": "ipython3",
   "version": "3.12.3"
  }
 },
 "nbformat": 4,
 "nbformat_minor": 5
}
