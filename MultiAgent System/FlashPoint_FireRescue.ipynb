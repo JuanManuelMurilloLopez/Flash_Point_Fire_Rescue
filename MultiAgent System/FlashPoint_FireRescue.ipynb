{
 "cells": [
  {
   "cell_type": "code",
   "execution_count": null,
   "id": "8272321c",
   "metadata": {},
   "outputs": [],
   "source": [
    "import matplotlib\n",
    "import matplotlib.pyplot as plt\n",
    "import matplotlib.animation as animation\n",
    "plt.rcParams[\"animation.html\"] = \"jshtml\"\n",
    "matplotlib.rcParams['animation.embed_limit'] = 2**128\n",
    "\n",
    "import numpy as np\n",
    "import pandas as pd\n",
    "import seaborn as sns\n",
    "sns.set()\n",
    "\n",
    "import time\n",
    "import datetime\n",
    "\n",
    "from Models.Fire import Fire\n",
    "from Models.Firefighter import Firefighter\n",
    "from Models.FireRescueModel import FireRescueModel\n",
    "\n",
    "model = FireRescueModel()\n",
    "\n",
    "ITERATIONS = 1\n",
    "i = 0\n",
    "\n",
    "while not(model.defeat()) or not(model.victory()) and i < ITERATIONS:\n",
    "    model.step()\n",
    "    i += 1\n",
    "\n",
    "if (model.victory()):\n",
    "    print(\"Players won\")\n",
    "elif (model.defeat()):\n",
    "    print(\"Players Lost\")\n",
    "    print(\"Damage: \", model.damageTokens)\n",
    "    print(\"Victims Lost: \", model.victimsLost)\n",
    "else:\n",
    "    print(\"Times up\")\n",
    "\n",
    "allAgentsInfo = model.datacollector.get_agent_vars_dataframe()\n",
    "allAgentsInfo.info()\n",
    "\n",
    "allGrids = model.datacollector.get_model_vars_dataframe()\n",
    "allGrids.info()\n",
    "\n",
    "fig, axs = plt.subplots(figsize = (4, 4))\n",
    "axs.set_xticks([])\n",
    "axs.set_yticks([])\n",
    "patch = plt.imshow(allGrids.iloc[0, 0], cmap = plt.cm.binary)\n",
    "\n",
    "def animate(i):\n",
    "    patch.set_data(allGrids.iloc[i, 0])\n",
    "\n",
    "anim = animation.FuncAnimation(fig, animate, frames = model.steps)\n",
    "\n",
    "anim"
   ]
  }
 ],
 "metadata": {
  "kernelspec": {
   "display_name": "venv",
   "language": "python",
   "name": "python3"
  },
  "language_info": {
   "codemirror_mode": {
    "name": "ipython",
    "version": 3
   },
   "file_extension": ".py",
   "mimetype": "text/x-python",
   "name": "python",
   "nbconvert_exporter": "python",
   "pygments_lexer": "ipython3",
   "version": "3.13.1"
  }
 },
 "nbformat": 4,
 "nbformat_minor": 5
}
