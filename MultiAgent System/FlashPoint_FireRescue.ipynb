{
 "cells": [
  {
   "cell_type": "code",
   "execution_count": 6,
   "id": "8272321c",
   "metadata": {},
   "outputs": [
    {
     "ename": "IndexError",
     "evalue": "list index out of range",
     "output_type": "error",
     "traceback": [
      "\u001b[31m---------------------------------------------------------------------------\u001b[39m",
      "\u001b[31mIndexError\u001b[39m                                Traceback (most recent call last)",
      "\u001b[36mCell\u001b[39m\u001b[36m \u001b[39m\u001b[32mIn[6]\u001b[39m\u001b[32m, line 22\u001b[39m\n\u001b[32m     19\u001b[39m model = FireRescueModel()\n\u001b[32m     21\u001b[39m \u001b[38;5;28;01mwhile\u001b[39;00m \u001b[38;5;129;01mnot\u001b[39;00m(model.defeat()) \u001b[38;5;129;01mor\u001b[39;00m \u001b[38;5;129;01mnot\u001b[39;00m(model.victory()):\n\u001b[32m---> \u001b[39m\u001b[32m22\u001b[39m     \u001b[43mmodel\u001b[49m\u001b[43m.\u001b[49m\u001b[43mstep\u001b[49m\u001b[43m(\u001b[49m\u001b[43m)\u001b[49m\n\u001b[32m     24\u001b[39m allAgentsInfo = model.datacollector.get_agent_vars_dataframe()\n\u001b[32m     25\u001b[39m allAgentsInfo.info()\n",
      "\u001b[36mFile \u001b[39m\u001b[32mc:\\Users\\frarc\\Documents\\TEC\\Quinto Semestre\\Multiagentes\\Prueba repo\\Flash_Point_Fire_Rescue\\.venv\\Lib\\site-packages\\mesa\\model.py:113\u001b[39m, in \u001b[36mModel._wrapped_step\u001b[39m\u001b[34m(self, *args, **kwargs)\u001b[39m\n\u001b[32m    111\u001b[39m \u001b[38;5;28mself\u001b[39m.steps += \u001b[32m1\u001b[39m\n\u001b[32m    112\u001b[39m \u001b[38;5;66;03m# Call the original user-defined step method\u001b[39;00m\n\u001b[32m--> \u001b[39m\u001b[32m113\u001b[39m \u001b[38;5;28;43mself\u001b[39;49m\u001b[43m.\u001b[49m\u001b[43m_user_step\u001b[49m\u001b[43m(\u001b[49m\u001b[43m*\u001b[49m\u001b[43margs\u001b[49m\u001b[43m,\u001b[49m\u001b[43m \u001b[49m\u001b[43m*\u001b[49m\u001b[43m*\u001b[49m\u001b[43mkwargs\u001b[49m\u001b[43m)\u001b[49m\n",
      "\u001b[36mFile \u001b[39m\u001b[32mc:\\Users\\frarc\\Documents\\TEC\\Quinto Semestre\\Multiagentes\\Prueba repo\\Flash_Point_Fire_Rescue\\MultiAgent System\\Models\\FireRescueModel.py:506\u001b[39m, in \u001b[36mFireRescueModel.step\u001b[39m\u001b[34m(self)\u001b[39m\n\u001b[32m    504\u001b[39m     \u001b[38;5;28mself\u001b[39m.replenishPOI()\n\u001b[32m    505\u001b[39m \u001b[38;5;28mself\u001b[39m.schedule.step()\n\u001b[32m--> \u001b[39m\u001b[32m506\u001b[39m \u001b[38;5;28;43mself\u001b[39;49m\u001b[43m.\u001b[49m\u001b[43madvanceFire\u001b[49m\u001b[43m(\u001b[49m\u001b[43m)\u001b[49m\n",
      "\u001b[36mFile \u001b[39m\u001b[32mc:\\Users\\frarc\\Documents\\TEC\\Quinto Semestre\\Multiagentes\\Prueba repo\\Flash_Point_Fire_Rescue\\MultiAgent System\\Models\\FireRescueModel.py:185\u001b[39m, in \u001b[36mFireRescueModel.advanceFire\u001b[39m\u001b[34m(self)\u001b[39m\n\u001b[32m    181\u001b[39m     \u001b[38;5;66;03m# TODO Aquí se agrega un nuevo cambio a la lista de fuegos nuevos? Cómo se maneja en las explosiones\u001b[39;00m\n\u001b[32m    182\u001b[39m \n\u001b[32m    183\u001b[39m \u001b[38;5;66;03m# Si es fuego, creamos una explosión\u001b[39;00m\n\u001b[32m    184\u001b[39m \u001b[38;5;28;01melif\u001b[39;00m fire.state == \u001b[33m\"\u001b[39m\u001b[33mfire\u001b[39m\u001b[33m\"\u001b[39m:\n\u001b[32m--> \u001b[39m\u001b[32m185\u001b[39m     \u001b[38;5;28;43mself\u001b[39;49m\u001b[43m.\u001b[49m\u001b[43mexplosion\u001b[49m\u001b[43m(\u001b[49m\u001b[38;5;28;43mself\u001b[39;49m\u001b[43m.\u001b[49m\u001b[43mdice\u001b[49m\u001b[43m)\u001b[49m\n",
      "\u001b[36mFile \u001b[39m\u001b[32mc:\\Users\\frarc\\Documents\\TEC\\Quinto Semestre\\Multiagentes\\Prueba repo\\Flash_Point_Fire_Rescue\\MultiAgent System\\Models\\FireRescueModel.py:196\u001b[39m, in \u001b[36mFireRescueModel.explosion\u001b[39m\u001b[34m(self, pos)\u001b[39m\n\u001b[32m    193\u001b[39m \u001b[38;5;28;01mif\u001b[39;00m upFire != \u001b[32m0\u001b[39m:\n\u001b[32m    194\u001b[39m     \u001b[38;5;66;03m# Si ya había fuego, empezar shockwave\u001b[39;00m\n\u001b[32m    195\u001b[39m     \u001b[38;5;28;01mif\u001b[39;00m upFire.state == \u001b[33m\"\u001b[39m\u001b[33mfire\u001b[39m\u001b[33m\"\u001b[39m:\n\u001b[32m--> \u001b[39m\u001b[32m196\u001b[39m         \u001b[38;5;28;43mself\u001b[39;49m\u001b[43m.\u001b[49m\u001b[43mshockwave\u001b[49m\u001b[43m(\u001b[49m\u001b[43mupPos\u001b[49m\u001b[43m,\u001b[49m\u001b[43m \u001b[49m\u001b[33;43m\"\u001b[39;49m\u001b[33;43mup\u001b[39;49m\u001b[33;43m\"\u001b[39;49m\u001b[43m)\u001b[49m\n\u001b[32m    197\u001b[39m \u001b[38;5;28;01melse\u001b[39;00m:\n\u001b[32m    198\u001b[39m     \u001b[38;5;66;03m# Si no había fuego, añadirlo\u001b[39;00m\n\u001b[32m    199\u001b[39m     upFire = Fire(upPos)\n",
      "\u001b[36mFile \u001b[39m\u001b[32mc:\\Users\\frarc\\Documents\\TEC\\Quinto Semestre\\Multiagentes\\Prueba repo\\Flash_Point_Fire_Rescue\\MultiAgent System\\Models\\FireRescueModel.py:385\u001b[39m, in \u001b[36mFireRescueModel.shockwave\u001b[39m\u001b[34m(self, pos, direction)\u001b[39m\n\u001b[32m    382\u001b[39m     \u001b[38;5;28;01mbreak\u001b[39;00m\n\u001b[32m    384\u001b[39m pos = (x, y)\n\u001b[32m--> \u001b[39m\u001b[32m385\u001b[39m cell = \u001b[38;5;28;43mself\u001b[39;49m\u001b[43m.\u001b[49m\u001b[43mcells\u001b[49m\u001b[43m[\u001b[49m\u001b[43my\u001b[49m\u001b[43m]\u001b[49m[x]\n\u001b[32m    387\u001b[39m \u001b[38;5;66;03m# Dañar pared\u001b[39;00m\n\u001b[32m    388\u001b[39m \u001b[38;5;28;01mif\u001b[39;00m cell.walls.get(direction):\n",
      "\u001b[31mIndexError\u001b[39m: list index out of range"
     ]
    }
   ],
   "source": [
    "import matplotlib\n",
    "import matplotlib.pyplot as plt\n",
    "import matplotlib.animation as animation\n",
    "plt.rcParams[\"animation.html\"] = \"jshtml\"\n",
    "matplotlib.rcParams['animation.embed_limit'] = 2**128\n",
    "\n",
    "import numpy as np\n",
    "import pandas as pd\n",
    "import seaborn as sns\n",
    "sns.set()\n",
    "\n",
    "import time\n",
    "import datetime\n",
    "\n",
    "from Models.Fire import Fire\n",
    "from Models.Firefighter import Firefighter\n",
    "from Models.FireRescueModel import FireRescueModel\n",
    "\n",
    "model = FireRescueModel()\n",
    "\n",
    "while not(model.defeat()) or not(model.victory()):\n",
    "    model.step()\n",
    "\n",
    "allAgentsInfo = model.datacollector.get_agent_vars_dataframe()\n",
    "allAgentsInfo.info()\n",
    "\n",
    "allGrids = model.datacollector.get_model_vars_dataframe()\n",
    "allGrids.info()\n",
    "\n",
    "fig, axs = plt.subplots(figsize = (4, 4))\n",
    "axs.set_xticks([])\n",
    "axs.set_yticks([])\n",
    "patch = plt.imshow(allGrids.iloc[0, 0], cmap = plt.cm.binary)\n",
    "\n",
    "def animate(i):\n",
    "    patch.set_data(allGrids.iloc[i, 0])\n",
    "\n",
    "anim = animation.FuncAnimation(fig, animate, frames = model.steps)\n",
    "\n",
    "anim"
   ]
  }
 ],
 "metadata": {
  "kernelspec": {
   "display_name": ".venv",
   "language": "python",
   "name": "python3"
  },
  "language_info": {
   "codemirror_mode": {
    "name": "ipython",
    "version": 3
   },
   "file_extension": ".py",
   "mimetype": "text/x-python",
   "name": "python",
   "nbconvert_exporter": "python",
   "pygments_lexer": "ipython3",
   "version": "3.13.6"
  }
 },
 "nbformat": 4,
 "nbformat_minor": 5
}
